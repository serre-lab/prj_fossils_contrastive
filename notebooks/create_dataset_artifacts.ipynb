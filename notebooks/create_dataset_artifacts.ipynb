{
 "cells": [
  {
   "cell_type": "markdown",
   "id": "edbc9dd2",
   "metadata": {},
   "source": [
    "# Data Tests notebook\n",
    "\n",
    "This notebook is for interactively developing tests for datasets and datamodules\n",
    "\n",
    "Author: Jacob A Rose  \n",
    "Created on: Tuesday May 4th, 2021"
   ]
  },
  {
   "cell_type": "code",
   "execution_count": 99,
   "id": "947ac801",
   "metadata": {},
   "outputs": [],
   "source": [
    "!pip list | grep \"jupyterlab_widgets\""
   ]
  },
  {
   "cell_type": "code",
   "execution_count": 101,
   "id": "f56a8b5c",
   "metadata": {},
   "outputs": [],
   "source": [
    "import jupyterlab_widgets"
   ]
  },
  {
   "cell_type": "code",
   "execution_count": 106,
   "id": "ca69851a",
   "metadata": {},
   "outputs": [],
   "source": [
    "(jupyterlab_widgets._jupyter_labextension_paths())\n",
    "\n",
    "import ipykernel"
   ]
  },
  {
   "cell_type": "code",
   "execution_count": 1,
   "id": "9f07a038",
   "metadata": {},
   "outputs": [
    {
     "data": {
      "application/vnd.jupyter.widget-view+json": {
       "model_id": "557cc38302a44e4fa52853e2eb455cbf",
       "version_major": 2,
       "version_minor": 0
      },
      "text/plain": [
       "Text(value='Hello')"
      ]
     },
     "metadata": {},
     "output_type": "display_data"
    }
   ],
   "source": [
    "from ipywidgets import Text\n",
    "Text(\"Hello\")"
   ]
  },
  {
   "cell_type": "code",
   "execution_count": 2,
   "id": "b02ed5d2",
   "metadata": {},
   "outputs": [
    {
     "name": "stderr",
     "output_type": "stream",
     "text": [
      "Global seed set to 9\n"
     ]
    },
    {
     "data": {
      "text/plain": [
       "9"
      ]
     },
     "execution_count": 2,
     "metadata": {},
     "output_type": "execute_result"
    }
   ],
   "source": [
    "from IPython.core.debugger import set_trace\n",
    "\n",
    "import os\n",
    "import types\n",
    "os.environ['CUDA_VISIBLE_DEVICES'] = \"0\"\n",
    "import numpy as np\n",
    "import pytorch_lightning as pl\n",
    "from torchvision import models\n",
    "import torchvision\n",
    "import torch\n",
    "import timm\n",
    "from rich import print\n",
    "import matplotlib.pyplot as plt\n",
    "from contrastive_learning.data.pytorch.pnas import PNASLightningDataModule\n",
    "from contrastive_learning.data.pytorch.extant import ExtantLightningDataModule\n",
    "from contrastive_learning.data.pytorch.common import DataStageError, LeavesLightningDataModule\n",
    "\n",
    "from lightning_hydra_classifiers.callbacks.wandb_callbacks import WatchModelWithWandb, LogPerClassMetricsToWandb, WandbClassificationCallback # LogConfusionMatrixToWandb\n",
    "from lightning_hydra_classifiers.models.resnet import ResNet, get_scalar_metrics\n",
    "import lightning_hydra_classifiers\n",
    "from torch import nn\n",
    "import inspect\n",
    "\n",
    "import wandb\n",
    "pl.trainer.seed_everything(seed=9)\n",
    "\n",
    "    \n",
    "# class Config:\n",
    "#     pass\n",
    "\n",
    "\n",
    "# config = Config()\n",
    "\n",
    "# # config.model_name = 'resnet50'\n",
    "# # config.dataset_name = 'PNAS_family_100_512'\n",
    "# config.dataset_name = '(Extant-PNAS)_family_10_512'\n",
    "# config.normalize = True\n",
    "# config.num_workers = 4\n",
    "# config.batch_size = 16\n",
    "\n",
    "# config = Box({\n",
    "#     \"dataset\":{\n",
    "#         namef\"PNAS_{label_type}_{pnas_threshold}\"\n",
    "#     }\n",
    "    \n",
    "# })\n",
    "\n",
    "########################################\n",
    "# if 'Extant' in config.dataset_name:\n",
    "#     datamodule = ExtantLightningDataModule(name=config.dataset_name, batch_size=config.batch_size, debug=False, normalize=config.normalize, num_workers=config.num_workers)\n",
    "# elif 'PNAS' in config.dataset_name:\n",
    "#     datamodule = PNASLightningDataModule(name=config.dataset_name, batch_size=config.batch_size, debug=False, normalize=config.normalize, num_workers=config.num_workers)#, normalize=False)#True)\n",
    "# datamodule.setup('fit')\n",
    "# ########################################\n",
    "# num_classes = len(datamodule.classes)\n",
    "# config.num_classes = num_classes"
   ]
  },
  {
   "cell_type": "code",
   "execution_count": 7,
   "id": "4f2c4295",
   "metadata": {},
   "outputs": [],
   "source": [
    "from box import Box\n",
    "import os\n",
    "\n",
    "os.environ['WANDB_CACHE_DIR'] = \"/media/data/jacob/wandb_cache\"\n",
    "class_type = \"family\"\n",
    "extant_threshold = 10\n",
    "pnas_threshold = 100\n",
    "image_size = 512\n",
    "seed = 257\n",
    "\n",
    "config = Box({})\n",
    "\n",
    "config.datasets = [{\n",
    "                  \"name\": f\"PNAS_{class_type}_{pnas_threshold}_{image_size}\",\n",
    "                  \"batch_size\":32,\n",
    "                  \"val_split\":None, # TODO specify split explicitly in wandb report\n",
    "                  \"num_workers\":4,\n",
    "                  \"image_size\":image_size,\n",
    "                  \"channels\":3,\n",
    "                  \"class_type\":class_type,\n",
    "                  \"debug\":False,\n",
    "                  \"normalize\":True,\n",
    "                  \"seed\":seed,\n",
    "                  \"dataset_dir\":None,\n",
    "                  \"predict_on_split\":\"val\",\n",
    "                  },\n",
    "    {\n",
    "                  \"name\":f\"Extant_{class_type}_{extant_threshold}_{image_size}\",  # f\"PNAS_{label_type}_{pnas_threshold}_{image_size}\"\n",
    "                  \"batch_size\":32,\n",
    "                  \"val_split\":None, # TODO specify split explicitly in wandb report\n",
    "                  \"num_workers\":4,\n",
    "                  \"image_size\":image_size,\n",
    "                  \"channels\":3,\n",
    "                  \"class_type\":class_type,\n",
    "                  \"debug\":False,\n",
    "                  \"normalize\":True,\n",
    "                  \"seed\":seed,\n",
    "                  \"dataset_dir\":None,\n",
    "                  \"predict_on_split\":\"val\",\n",
    "                  }]\n",
    "\n",
    "\n",
    "\n",
    "config.wandb = {\n",
    "                \"init\":\n",
    "                       {\n",
    "                        \"entity\":\"jrose\",\n",
    "                        \"project\":\"image_classification_datasets\",\n",
    "                        \"job_type\":'create-dataset',\n",
    "                        \"group\":None,\n",
    "                        \"run_dir\":os.environ['WANDB_CACHE_DIR'],\n",
    "                        \"tags\":[d.name for d in config.datasets]\n",
    "                       },\n",
    "                \"artifacts\":\n",
    "                        {\n",
    "                        \"root_dir\":None\n",
    "                        },\n",
    "                \"input_artifacts\":\n",
    "                       [\n",
    "                           {\n",
    "                            \"entity\":\"jrose\",\n",
    "                            \"project\":\"image_classification_datasets\",\n",
    "                            \"name\": config.datasets[0].name,\n",
    "                            \"version\": \"v6\",\n",
    "                            \"type\": \"raw_data\",\n",
    "                            \"root_dir\":None,\n",
    "                            \"uri\":None\n",
    "                           }\n",
    "                       ]\n",
    "}\n",
    "\n",
    "i = 0\n",
    "\n",
    "config.wandb.artifacts.root_dir = os.path.join(config.wandb.init.run_dir,\n",
    "                                               \"artifacts\")\n",
    "\n",
    "config.wandb.input_artifacts[i].uri = \"/\".join([config.wandb.input_artifacts[i].entity,\n",
    "                                                config.wandb.input_artifacts[i].project,\n",
    "                                                config.wandb.input_artifacts[i].name]) \\\n",
    "                                           + f':{config.wandb.input_artifacts[i].version}'\n",
    "\n",
    "\n",
    "config.wandb.input_artifacts[i].root_dir = os.path.join(config.wandb.artifacts.root_dir,\n",
    "                                                        \"datasets\",\n",
    "                                                         config.wandb.input_artifacts[i].name \\\n",
    "                                                         + f':{config.wandb.input_artifacts[i].version}'\n",
    "                                                        )\n",
    "\n",
    "\n",
    "# def fetch_datamodule_from_dataset_artifact(config: Box, run_or_api=None) -> LeavesLightningDataModule:\n",
    "#     run = run_or_api or wandb.Api()\n",
    "#     artifact = run.use_artifact(config.wandb.input_artifact.uri,\n",
    "#                                 type=config.wandb.input_artifact.type)\n",
    "#     dataset_artifact_dir = artifact.download(root=config.wandb.input_artifact.root_dir)\n",
    "\n",
    "\n",
    "#     datamodule = get_datamodule(config.dataset)\n",
    "#     datamodule.setup('fit')\n",
    "#     datamodule.setup('test')\n",
    "#     ########################\n",
    "#     config.model.num_classes = config.dataset.num_classes\n",
    "\n",
    "def fetch_datamodule_from_dataset_artifact(config: Box, run_or_api=None) -> LeavesLightningDataModule:\n",
    "    run = run_or_api or wandb.Api()\n",
    "    artifact = run.use_artifact(config.wandb.input_artifact.uri,\n",
    "                                type=config.wandb.input_artifact.type)\n",
    "    dataset_artifact_dir = artifact.download(root=config.wandb.input_artifact.root_dir)\n",
    "\n",
    "\n",
    "    datamodule = get_datamodule(config.dataset)\n",
    "    datamodule.setup('fit')\n",
    "    datamodule.setup('test')\n",
    "    ########################\n",
    "    config.model.num_classes = config.dataset.num_classes\n"
   ]
  },
  {
   "cell_type": "code",
   "execution_count": 56,
   "id": "07613523",
   "metadata": {},
   "outputs": [],
   "source": [
    "import pandas as pd\n",
    "import numpy as np\n",
    "from PIL import Image, ImageStat\n",
    "import seaborn_image as isns\n",
    "import scipy\n",
    "\n",
    "def image_stat(img: np.ndarray):\n",
    "    if img.ndim==3:\n",
    "        h, w, c = img.shape\n",
    "    else:\n",
    "        h, w, c = (*img.shape, 1)\n",
    "    return {\n",
    "        \"min\":np.min(img),\n",
    "        \"max\":np.max(img),\n",
    "        \"var\":np.var(img),\n",
    "        \"mean\":np.mean(img),\n",
    "        \"mode\":scipy.stats.mode(img,axis=None),\n",
    "        \"height\":h,\n",
    "        \"width\":w,\n",
    "        \"channels\":c,\n",
    "        \"num_pixels\":h*w*c\n",
    "    }\n",
    "\n",
    "\n",
    "def load_and_analyze_image(image_path: str):\n",
    "    img = np.array(Image.open(image_path))\n",
    "    return img, image_stat(img)\n",
    "\n",
    "# def load_analyze_and_save_annotated_image(image_path: str):\n",
    "#     img, stats = load_and_analyze_image(image_path)\n",
    "#     return img, image_stat(img)\n",
    "\n",
    "\n",
    "\n",
    "\n",
    "def fig2data ( fig ):\n",
    "    \"\"\"\n",
    "    @brief Convert a Matplotlib figure to a 4D numpy array with RGBA channels and return it\n",
    "    @param fig a matplotlib figure\n",
    "    @return a numpy 3D array of RGBA values\n",
    "    \"\"\"\n",
    "    # draw the renderer\n",
    "    fig.canvas.draw()\n",
    " \n",
    "    # Get the RGBA buffer from the figure\n",
    "    w,h = fig.canvas.get_width_height()\n",
    "    buf = np.fromstring(fig.canvas.tostring_argb(), dtype=np.uint8)\n",
    "    buf.shape = ( w, h, 4 )\n",
    " \n",
    "    # canvas.tostring_argb give pixmap in ARGB mode. Roll the ALPHA channel to have it in RGBA mode\n",
    "    buf = np.roll( buf, 3, axis = 2 )\n",
    "    return buf\n",
    "\n",
    " \n",
    "def fig2img ( fig ):\n",
    "    \"\"\"\n",
    "    @brief Convert a Matplotlib figure to a PIL Image in RGBA format and return it\n",
    "    @param fig a matplotlib figure\n",
    "    @return a Python Imaging Library ( PIL ) image\n",
    "    \"\"\"\n",
    "    # put the figure pixmap into a numpy array\n",
    "    buf = fig2data(fig)\n",
    "    w, h, d = buf.shape\n",
    "    return Image.frombytes(\"RGBA\", (w, h), buf.tostring())\n",
    "\n",
    "# f = isns.imghist(img_array,\n",
    "#                  describe=True)\n",
    "# results = fig2img(f)"
   ]
  },
  {
   "cell_type": "code",
   "execution_count": 5,
   "id": "203c9f3a",
   "metadata": {},
   "outputs": [
    {
     "data": {
      "text/plain": [
       "'jrose/image_classification_datasets/PNAS_family_100_512:v0'"
      ]
     },
     "execution_count": 5,
     "metadata": {},
     "output_type": "execute_result"
    }
   ],
   "source": [
    "config.wandb.input_artifacts[0].uri"
   ]
  },
  {
   "cell_type": "code",
   "execution_count": 8,
   "id": "579f8a0b",
   "metadata": {},
   "outputs": [],
   "source": [
    "import wandb\n",
    "api = wandb.Api()\n",
    "artifact = api.artifact(config.wandb.input_artifacts[0].uri)"
   ]
  },
  {
   "cell_type": "code",
   "execution_count": 57,
   "id": "8266aa36",
   "metadata": {},
   "outputs": [
    {
     "ename": "AttributeError",
     "evalue": "'Artifact' object has no attribute 'data'",
     "output_type": "error",
     "traceback": [
      "\u001b[0;31m---------------------------------------------------------------------------\u001b[0m",
      "\u001b[0;31mAttributeError\u001b[0m                            Traceback (most recent call last)",
      "\u001b[0;32m<ipython-input-57-6880c54c365c>\u001b[0m in \u001b[0;36m<module>\u001b[0;34m\u001b[0m\n\u001b[0;32m----> 1\u001b[0;31m \u001b[0martifact\u001b[0m\u001b[0;34m.\u001b[0m\u001b[0mdata\u001b[0m\u001b[0;34m\u001b[0m\u001b[0;34m\u001b[0m\u001b[0m\n\u001b[0m",
      "\u001b[0;31mAttributeError\u001b[0m: 'Artifact' object has no attribute 'data'"
     ]
    }
   ],
   "source": [
    "artifact.data"
   ]
  },
  {
   "cell_type": "code",
   "execution_count": null,
   "id": "ff33e7cb",
   "metadata": {},
   "outputs": [],
   "source": []
  },
  {
   "cell_type": "code",
   "execution_count": 25,
   "id": "a2332472",
   "metadata": {},
   "outputs": [],
   "source": [
    "# dir(artifact)\n",
    "# dir(artifact.manifest)\n",
    "# artifact.manifest.entries"
   ]
  },
  {
   "cell_type": "code",
   "execution_count": 27,
   "id": "cb2105db",
   "metadata": {},
   "outputs": [],
   "source": [
    "data = artifact.get('dataset/test.table.json')"
   ]
  },
  {
   "cell_type": "code",
   "execution_count": 88,
   "id": "389fc34b",
   "metadata": {},
   "outputs": [
    {
     "data": {
      "text/plain": [
       "wandb.data_types.Table"
      ]
     },
     "execution_count": 88,
     "metadata": {},
     "output_type": "execute_result"
    }
   ],
   "source": [
    "type(data)"
   ]
  },
  {
   "cell_type": "code",
   "execution_count": 60,
   "id": "ba13f221",
   "metadata": {},
   "outputs": [
    {
     "data": {
      "text/html": [
       "<pre style=\"white-space:pre;overflow-x:auto;line-height:normal;font-family:Menlo,'DejaVu Sans Mono',consolas,'Courier New',monospace\"><span style=\"font-weight: bold\">[</span><span style=\"color: #008000; text-decoration-color: #008000\">'image'</span>, <span style=\"color: #008000; text-decoration-color: #008000\">'label'</span>, <span style=\"color: #008000; text-decoration-color: #008000\">'family'</span>, <span style=\"color: #008000; text-decoration-color: #008000\">'genus'</span>, <span style=\"color: #008000; text-decoration-color: #008000\">'species'</span>, <span style=\"color: #008000; text-decoration-color: #008000\">'collection'</span>, <span style=\"color: #008000; text-decoration-color: #008000\">'catalog_number'</span><span style=\"font-weight: bold\">]</span>\n",
       "</pre>\n"
      ],
      "text/plain": [
       "\u001b[1m[\u001b[0m\u001b[32m'image'\u001b[0m, \u001b[32m'label'\u001b[0m, \u001b[32m'family'\u001b[0m, \u001b[32m'genus'\u001b[0m, \u001b[32m'species'\u001b[0m, \u001b[32m'collection'\u001b[0m, \u001b[32m'catalog_number'\u001b[0m\u001b[1m]\u001b[0m\n"
      ]
     },
     "metadata": {},
     "output_type": "display_data"
    }
   ],
   "source": [
    "df=data.data\n",
    "\n",
    "print(data.columns)\n",
    "\n",
    "\n",
    "data_df = pd.DataFrame(data=df, columns=data.columns)"
   ]
  },
  {
   "cell_type": "code",
   "execution_count": 89,
   "id": "73255ae1",
   "metadata": {},
   "outputs": [],
   "source": [
    "wide_samples = data_df\n",
    "samples = list(data_df[['image', 'label']].itertuples())"
   ]
  },
  {
   "cell_type": "code",
   "execution_count": 97,
   "id": "33f6359a",
   "metadata": {},
   "outputs": [
    {
     "data": {
      "text/plain": [
       "<BarContainer object of 19 artists>"
      ]
     },
     "execution_count": 97,
     "metadata": {},
     "output_type": "execute_result"
    },
    {
     "data": {
      "image/png": "[encoded data removed]",
      "text/plain": [
       "<Figure size 432x288 with 1 Axes>"
      ]
     },
     "metadata": {
      "needs_background": "light"
     },
     "output_type": "display_data"
    }
   ],
   "source": [
    "\n",
    "num_classes = len(set(wide_samples.label.values))\n",
    "plt.bar(range(num_classes), wide_samples.groupby(\"label\")[\"catalog_number\"].count())"
   ]
  },
  {
   "cell_type": "code",
   "execution_count": null,
   "id": "227b2a16",
   "metadata": {},
   "outputs": [],
   "source": []
  },
  {
   "cell_type": "code",
   "execution_count": null,
   "id": "4b0ab10a",
   "metadata": {},
   "outputs": [],
   "source": []
  },
  {
   "cell_type": "code",
   "execution_count": 82,
   "id": "40cf68fd",
   "metadata": {},
   "outputs": [],
   "source": [
    "# in_mem = data_df.image.apply(lambda x: np.array(x._image))\n",
    "in_mem = data_df.image.apply(lambda x: x._image)"
   ]
  },
  {
   "cell_type": "code",
   "execution_count": 87,
   "id": "e89ca50c",
   "metadata": {},
   "outputs": [
    {
     "data": {
      "image/png": "[encoded data removed]",
      "text/plain": [
       "<PIL.JpegImagePlugin.JpegImageFile image mode=RGB size=512x512 at 0x7F7790145040>"
      ]
     },
     "execution_count": 87,
     "metadata": {},
     "output_type": "execute_result"
    }
   ],
   "source": [
    "in_mem[199]"
   ]
  },
  {
   "cell_type": "code",
   "execution_count": 79,
   "id": "0ce5849e",
   "metadata": {},
   "outputs": [
    {
     "data": {
      "text/plain": [
       "(512, 512, 3)"
      ]
     },
     "execution_count": 79,
     "metadata": {},
     "output_type": "execute_result"
    }
   ],
   "source": [
    "np.array(data_df.image[0]._image).shape"
   ]
  },
  {
   "cell_type": "code",
   "execution_count": 74,
   "id": "08b55cd3",
   "metadata": {},
   "outputs": [
    {
     "data": {
      "text/plain": [
       "['_Image__transformer',\n",
       " '__array_interface__',\n",
       " '__class__',\n",
       " '__copy__',\n",
       " '__delattr__',\n",
       " '__dict__',\n",
       " '__dir__',\n",
       " '__doc__',\n",
       " '__enter__',\n",
       " '__eq__',\n",
       " '__exit__',\n",
       " '__format__',\n",
       " '__ge__',\n",
       " '__getattr__',\n",
       " '__getattribute__',\n",
       " '__getstate__',\n",
       " '__gt__',\n",
       " '__hash__',\n",
       " '__init__',\n",
       " '__init_subclass__',\n",
       " '__le__',\n",
       " '__lt__',\n",
       " '__module__',\n",
       " '__ne__',\n",
       " '__new__',\n",
       " '__reduce__',\n",
       " '__reduce_ex__',\n",
       " '__repr__',\n",
       " '__setattr__',\n",
       " '__setstate__',\n",
       " '__sizeof__',\n",
       " '__str__',\n",
       " '__subclasshook__',\n",
       " '__weakref__',\n",
       " '_category',\n",
       " '_close_exclusive_fp_after_loading',\n",
       " '_copy',\n",
       " '_crop',\n",
       " '_dump',\n",
       " '_ensure_mutable',\n",
       " '_exclusive_fp',\n",
       " '_exif',\n",
       " '_expand',\n",
       " '_get_safe_box',\n",
       " '_getexif',\n",
       " '_getmp',\n",
       " '_min_frame',\n",
       " '_new',\n",
       " '_open',\n",
       " '_repr_png_',\n",
       " '_seek_check',\n",
       " '_size',\n",
       " '_xmp',\n",
       " 'alpha_composite',\n",
       " 'app',\n",
       " 'applist',\n",
       " 'bits',\n",
       " 'close',\n",
       " 'convert',\n",
       " 'copy',\n",
       " 'crop',\n",
       " 'custom_mimetype',\n",
       " 'decoderconfig',\n",
       " 'decodermaxblock',\n",
       " 'draft',\n",
       " 'effect_spread',\n",
       " 'encoderconfig',\n",
       " 'encoderinfo',\n",
       " 'entropy',\n",
       " 'filename',\n",
       " 'filter',\n",
       " 'format',\n",
       " 'format_description',\n",
       " 'fp',\n",
       " 'frombytes',\n",
       " 'get_format_mimetype',\n",
       " 'getbands',\n",
       " 'getbbox',\n",
       " 'getchannel',\n",
       " 'getcolors',\n",
       " 'getdata',\n",
       " 'getexif',\n",
       " 'getextrema',\n",
       " 'getim',\n",
       " 'getpalette',\n",
       " 'getpixel',\n",
       " 'getprojection',\n",
       " 'getxmp',\n",
       " 'height',\n",
       " 'histogram',\n",
       " 'huffman_ac',\n",
       " 'huffman_dc',\n",
       " 'icclist',\n",
       " 'im',\n",
       " 'info',\n",
       " 'layer',\n",
       " 'layers',\n",
       " 'load',\n",
       " 'load_djpeg',\n",
       " 'load_end',\n",
       " 'load_prepare',\n",
       " 'load_read',\n",
       " 'map',\n",
       " 'mode',\n",
       " 'palette',\n",
       " 'paste',\n",
       " 'point',\n",
       " 'putalpha',\n",
       " 'putdata',\n",
       " 'putpalette',\n",
       " 'putpixel',\n",
       " 'pyaccess',\n",
       " 'quantization',\n",
       " 'quantize',\n",
       " 'readonly',\n",
       " 'reduce',\n",
       " 'remap_palette',\n",
       " 'resize',\n",
       " 'rotate',\n",
       " 'save',\n",
       " 'seek',\n",
       " 'show',\n",
       " 'size',\n",
       " 'split',\n",
       " 'tell',\n",
       " 'thumbnail',\n",
       " 'tile',\n",
       " 'tobitmap',\n",
       " 'tobytes',\n",
       " 'toqimage',\n",
       " 'toqpixmap',\n",
       " 'transform',\n",
       " 'transpose',\n",
       " 'verify',\n",
       " 'width']"
      ]
     },
     "execution_count": 74,
     "metadata": {},
     "output_type": "execute_result"
    }
   ],
   "source": [
    "\n",
    "in_mem[0]"
   ]
  },
  {
   "cell_type": "code",
   "execution_count": null,
   "id": "3b2b89fb",
   "metadata": {},
   "outputs": [],
   "source": []
  },
  {
   "cell_type": "code",
   "execution_count": 27,
   "id": "0f718403",
   "metadata": {},
   "outputs": [],
   "source": [
    "from IPython.display import display"
   ]
  },
  {
   "cell_type": "code",
   "execution_count": 44,
   "id": "54eda055",
   "metadata": {},
   "outputs": [
    {
     "data": {
      "text/plain": [
       "['image',\n",
       " 'label',\n",
       " 'family',\n",
       " 'genus',\n",
       " 'species',\n",
       " 'collection',\n",
       " 'catalog_number']"
      ]
     },
     "execution_count": 44,
     "metadata": {},
     "output_type": "execute_result"
    }
   ],
   "source": [
    "df = data.get_column('image')\n",
    "\n",
    "data.columns"
   ]
  },
  {
   "cell_type": "code",
   "execution_count": null,
   "id": "59dc8f19",
   "metadata": {},
   "outputs": [],
   "source": []
  },
  {
   "cell_type": "code",
   "execution_count": null,
   "id": "432e2946",
   "metadata": {},
   "outputs": [],
   "source": []
  },
  {
   "cell_type": "code",
   "execution_count": null,
   "id": "144c0604",
   "metadata": {},
   "outputs": [],
   "source": []
  },
  {
   "cell_type": "code",
   "execution_count": 19,
   "id": "d280330f",
   "metadata": {},
   "outputs": [],
   "source": [
    "dir(artifact)\n",
    "\n",
    "downloaded_artifact = artifact.checkout(root=config.wandb.input_artifacts[0].root_dir)"
   ]
  },
  {
   "cell_type": "code",
   "execution_count": 21,
   "id": "5a68d628",
   "metadata": {},
   "outputs": [
    {
     "data": {
      "text/plain": [
       "'/media/data/jacob/wandb_cache/artifacts/datasets/PNAS_family_100_512:v6'"
      ]
     },
     "execution_count": 21,
     "metadata": {},
     "output_type": "execute_result"
    }
   ],
   "source": [
    "# os.path.abspath\n",
    "(downloaded_artifact)"
   ]
  },
  {
   "cell_type": "code",
   "execution_count": null,
   "id": "526e3db6",
   "metadata": {},
   "outputs": [],
   "source": [
    "from contrastive_learning.data.pytorch.pnas import PNASLeavesDataset\n",
    "from contrastive_learning.data.pytorch.extant import ExtantLeavesDataset\n",
    "# from contrastive_learning.data.pytorch.common import DataStageError\n",
    "from paleoai_data.dataset_drivers import base_dataset\n",
    "\n",
    "# Step 1. Instantiate PyTorch Datasets for each of Extant Leaves & PNAS, separately\n",
    "pnas_torch = PNASLeavesDataset(name = f\"PNAS_{label_type}_{pnas_threshold}\",\n",
    "                 split: str=\"train\",\n",
    "                 dataset_dir: Optional[str]=None,\n",
    "                 return_paths: bool=False,)\n",
    "extant_torch = ExtantLeavesDataset\n",
    "\n",
    "\n",
    "\n",
    "\n",
    "# def create_dataset_by_name(name: str,\n",
    "#                            version: str='v0.2',\n",
    "#                            exclude_classes = ['notcataloged','notcatalogued', 'II. IDs, families uncertain', 'Unidentified']):\n",
    "#     data_df = query_db(version=version, **{'dataset':name})\n",
    "#     dataset = base_dataset.BaseDataset.from_dataframe(df=data_df, name=name, exclude_classes=exclude_classes)\n",
    "#     return dataset"
   ]
  },
  {
   "cell_type": "code",
   "execution_count": null,
   "id": "53bdac1f",
   "metadata": {},
   "outputs": [],
   "source": [
    "datamodule.train_dataset[0][0].shape"
   ]
  },
  {
   "cell_type": "code",
   "execution_count": null,
   "id": "aca370f4",
   "metadata": {},
   "outputs": [],
   "source": [
    "with wandb.init(project=WANDB_PROJECT, job_type=\"model_result_analysis\") as run:\n",
    "    \n",
    "    # Retrieve the original raw dataset\n",
    "    dataset_artifact = run.use_artifact(\"raw_data:latest\")\n",
    "    data_table = dataset_artifact.get(\"raw_examples\")\n",
    "    \n",
    "    # Retrieve the train and test score tables\n",
    "    train_artifact = run.use_artifact(\"train_results:latest\")\n",
    "    train_table = train_artifact.get(\"train_iou_score_table\")"
   ]
  },
  {
   "cell_type": "code",
   "execution_count": null,
   "id": "86d4f50e",
   "metadata": {},
   "outputs": [],
   "source": [
    "# data = PNASLightningDataModule(batch_size=16)\n",
    "# data = ExtantLightningDataModule(batch_size=16, num_workers=12)\n",
    "# data.setup(stage='fit')\n",
    "\n",
    "# data.setup(stage='test')\n",
    "\n",
    "# data.setup(stage=None)\n",
    "\n",
    "# try:\n",
    "#     data.setup(stage='other')\n",
    "#     print('success')\n",
    "# except DataStageError as e:\n",
    "#     print(e.with_traceback(None))"
   ]
  },
  {
   "cell_type": "code",
   "execution_count": null,
   "id": "e2151946",
   "metadata": {},
   "outputs": [],
   "source": [
    "data.setup(stage='fit')\n",
    "train_dataloader = data.get_dataloader(stage='train')\n",
    "val_dataloader = data.get_dataloader(stage='val')\n",
    "data.setup(stage='test')\n",
    "test_dataloader = data.get_dataloader(stage='test')\n",
    "\n",
    "# train_dataloader\n",
    "#         if stage=='train': return self.train_dataloader()\n",
    "#         if stage=='val': return self.val_dataloader()\n",
    "#         if stage=='test': return self.test_dataloader()\n"
   ]
  },
  {
   "cell_type": "code",
   "execution_count": null,
   "id": "b1658044",
   "metadata": {},
   "outputs": [],
   "source": [
    "\n",
    "\n",
    "# data.train_dataset.transform = None #data.default_train_transforms() #None\n",
    "x, y = data.train_dataset[0]\n",
    "# print(x.shape)"
   ]
  },
  {
   "cell_type": "code",
   "execution_count": null,
   "id": "b0846f17",
   "metadata": {},
   "outputs": [],
   "source": [
    "# from PIL import ImageOps\n",
    "\n",
    "# print(x.max(), x.min())\n",
    "# plt.imshow(ImageOps.invert(x))#.permute(1,2,0))"
   ]
  },
  {
   "cell_type": "code",
   "execution_count": null,
   "id": "11636ea1",
   "metadata": {},
   "outputs": [],
   "source": [
    "%%time\n",
    "batch_idx = 0\n",
    "\n",
    "data.show_batch('train', batch_idx=batch_idx)\n",
    "# data.show_batch('train', cmap='plasma')\n",
    "plt.savefig(f'ExtantLeaves v0_3 train batch {batch_idx}.png')\n",
    "\n",
    "data.show_batch('val', batch_idx=batch_idx)\n",
    "plt.savefig(f'ExtantLeaves v0_3 val batch {batch_idx}.png')\n",
    "\n",
    "data.show_batch('test', batch_idx=batch_idx)\n",
    "plt.savefig(f'ExtantLeaves v0_3 test batch {batch_idx}.png')\n",
    "# data.show_batch('train', cmap='magma')\n",
    "# data.show_batch('train', cmap='cividis')"
   ]
  },
  {
   "cell_type": "code",
   "execution_count": null,
   "id": "6164a9b1",
   "metadata": {},
   "outputs": [],
   "source": []
  },
  {
   "cell_type": "code",
   "execution_count": null,
   "id": "de962329",
   "metadata": {},
   "outputs": [],
   "source": []
  },
  {
   "cell_type": "code",
   "execution_count": null,
   "id": "47194942",
   "metadata": {},
   "outputs": [],
   "source": [
    "self = data\n",
    "stage = 'test'\n",
    "batch_idx = 0\n",
    "\n",
    "x, y = self.get_batch(stage=stage, batch_idx=batch_idx)\n",
    "\n",
    "x = x[:12,...]\n",
    "\n",
    "batch_size = x.shape[0]\n",
    "\n",
    "fig, ax = plt.subplots(1,1, figsize=(24,24))\n",
    "grid_img = torchvision.utils.make_grid(x, nrow=int(np.ceil(np.sqrt(batch_size))))\n",
    "\n",
    "img_min, img_max = grid_img.min(), grid_img.max()\n",
    "print(img_min, img_max)\n",
    "\n",
    "grid_img = (grid_img - img_min)/(img_max - img_min)\n",
    "img_min, img_max = grid_img.min(), grid_img.max()\n",
    "print(img_min, img_max)\n",
    "\n",
    "\n",
    "\n",
    "print('before:', grid_img.shape)\n",
    "\n",
    "if torch.argmin(torch.Tensor(grid_img.shape)) == 0:\n",
    "    grid_img = grid_img.permute(1,2,0)\n",
    "print('after:', grid_img.shape)\n",
    "\n",
    "img_ax = ax.imshow(grid_img[:,:,0], cmap='viridis')#, vmin = img_min, vmax = img_max)\n",
    "fig.colorbar(img_ax, ax=ax)#)#cax=ax)\n",
    "plt.axis('off')\n",
    "plt.suptitle(f'{stage} batch')\n",
    "#         return fig, ax\n",
    "\n",
    "help(plt.imshow)\n",
    "\n",
    "%debug\n",
    "\n",
    "x, y = next(iter(train_dataloader))\n",
    "\n",
    "x.min()\n",
    "\n",
    "plt.imshow(x[1,...].permute(1,2,0))"
   ]
  },
  {
   "cell_type": "code",
   "execution_count": null,
   "id": "ce11b827",
   "metadata": {},
   "outputs": [],
   "source": []
  }
 ],
 "metadata": {
  "kernelspec": {
   "display_name": "Python 3",
   "language": "python",
   "name": "python3"
  },
  "language_info": {
   "codemirror_mode": {
    "name": "ipython",
    "version": 3
   },
   "file_extension": ".py",
   "mimetype": "text/x-python",
   "name": "python",
   "nbconvert_exporter": "python",
   "pygments_lexer": "ipython3",
   "version": "3.8.5"
  }
 },
 "nbformat": 4,
 "nbformat_minor": 5
}
